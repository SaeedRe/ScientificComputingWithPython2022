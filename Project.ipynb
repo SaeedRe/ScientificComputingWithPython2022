{
 "cells": [
  {
   "cell_type": "markdown",
   "metadata": {
    "pycharm": {
     "name": "#%% md\n"
    }
   },
   "source": [
    "# Game of Life\n",
    "\n",
    "\n",
    "The [Game of Life](http://en.wikipedia.org/wiki/Conway's_Game_of_Life) (GoF) is a cellular automaton devised by the British mathematician John Horton Conway in 1970. The game is a zero-player game, meaning that its evolution is determined by its initial state, requiring no further input. One interacts with the Game of Life by creating an initial configuration and observing how it evolves, or, for advanced players, by creating patterns with particular properties.\n",
    "\n",
    "The universe of the Game of Life is an infinite two-dimensional orthogonal grid of square cells, each of which is in one of two possible states, live or dead. Every cell interacts with its eight neighbours, which are the cells that are directly horizontally, vertically, or diagonally adjacent. At each step in time, the following transitions occur:\n",
    "\n",
    "* Any live cell with fewer than two live neighbours dies, as if by underpopulation.\n",
    "* Any live cell with more than three live neighbours dies, as if by overcrowding.\n",
    "* Any live cell with two or three live neighbours lives, unchanged, to the next generation.\n",
    "* Any dead cell with exactly three live neighbours becomes a live cell.\n",
    "\n",
    "The initial pattern (generation 0) constitutes the \"seed\" of the system.\n",
    "Time is considered discrete, and each time step (sometimes called a tick), the previous rules are applied simultaneously to every cell in the grid; \"births\" and \"deaths\" are immediate.\n",
    "Each generation is a pure function of the previous generation alone.\n",
    "\n",
    "\n",
    "## Assignments\n",
    "\n",
    "* Begin by implementing the GoF's rules and create few examples with basic seeds in small dimensions. Hint: create `.gif` animations from sequences of still `.png` images\n",
    "* Implement examples of the three categories of patterns *still lifes*, *oscillators* and *spaceships* (check the [wiki link](http://en.wikipedia.org/wiki/Conway's_Game_of_Life))\n",
    "* Analyse the evolutions of these patterns in terms of frequency (the number of cycles required to return to the original configuration, if any), occupancy (how many alive cells there are at every step of the game), replication or heat (the average number of cells that change state at each generation), speed (if applicable), etc.\n",
    "* Increase the size of the GoF's world and play with more advanced and complex patterns"
   ]
  },
  {
   "cell_type": "markdown",
   "metadata": {
    "collapsed": false,
    "pycharm": {
     "name": "#%% md\n"
    }
   },
   "source": [
    "# Game of Life"
   ]
  },
  {
   "cell_type": "code",
   "execution_count": 33,
   "metadata": {
    "collapsed": false,
    "pycharm": {
     "name": "#%%\n"
    }
   },
   "outputs": [],
   "source": [
    "import numpy as np\n",
    "import matplotlib.pyplot as plt\n",
    "from matplotlib import colors\n",
    "import os\n",
    "import glob\n",
    "from PIL import Image"
   ]
  },
  {
   "cell_type": "markdown",
   "source": [
    "# Game of Life"
   ],
   "metadata": {
    "collapsed": false,
    "pycharm": {
     "name": "#%% md\n"
    }
   }
  },
  {
   "cell_type": "code",
   "execution_count": 34,
   "metadata": {
    "collapsed": false,
    "pycharm": {
     "name": "#%%\n"
    }
   },
   "outputs": [],
   "source": [
    "def checkPoint(grid, x, y):\n",
    "    liveCount = 0\n",
    "    for j in range(-1, 2):\n",
    "        for i in range(-1, 2):\n",
    "            xInGrid = 0 <= i + x < grid.shape[1]\n",
    "            yInGrid = 0 <= j + y < grid.shape[0]\n",
    "            if not (i == j == 0):\n",
    "                if xInGrid and yInGrid:\n",
    "                    xToCheck = i + x\n",
    "                    yToCheck = j + y\n",
    "                else:\n",
    "                    if xInGrid:\n",
    "                        xToCheck = i + x\n",
    "                    else:\n",
    "                        xToCheck = grid.shape[1] + i\n",
    "                        if xToCheck > grid.shape[1]:\n",
    "                            xToCheck = 0\n",
    "                    if yInGrid:\n",
    "                        yToCheck = j + y\n",
    "                    else:\n",
    "                        yToCheck = grid.shape[0] + j\n",
    "                        if yToCheck > grid.shape[0]:\n",
    "                            yToCheck = 0\n",
    "                liveCount += grid[yToCheck][xToCheck]\n",
    "\n",
    "    if grid[y][x]:\n",
    "        if liveCount == 2 or liveCount == 3:\n",
    "            return True\n",
    "    if not grid[y][x]:\n",
    "        if liveCount == 3:\n",
    "            return True\n",
    "    return False"
   ]
  },
  {
   "cell_type": "code",
   "execution_count": 35,
   "metadata": {
    "collapsed": false,
    "pycharm": {
     "name": "#%%\n"
    }
   },
   "outputs": [],
   "source": [
    "def updateGrid(grid):\n",
    "    nextGrid = np.full(mainGrid.shape, False)\n",
    "    for i in range(grid.shape[0]):\n",
    "        for j in range(grid.shape[1]):\n",
    "            nextGrid[i][j] = checkPoint(grid, j, i)\n",
    "    return nextGrid"
   ]
  },
  {
   "cell_type": "code",
   "execution_count": 70,
   "metadata": {
    "collapsed": false,
    "pycharm": {
     "name": "#%%\n"
    }
   },
   "outputs": [],
   "source": [
    "def drawGrid(grid):\n",
    "    figureY = (grid.shape[1] * 6) / grid.shape[0]\n",
    "    figure, ax = plt.subplots(figsize=(figureY, 6))\n",
    "    cmap = colors.ListedColormap(['Black','White'])\n",
    "    return ax.pcolor(grid[::-1],cmap=cmap), figure"
   ]
  },
  {
   "cell_type": "code",
   "execution_count": 71,
   "metadata": {
    "collapsed": false,
    "pycharm": {
     "name": "#%%\n"
    }
   },
   "outputs": [],
   "source": [
    "def drawFirstGrid(grid, path):\n",
    "    plt.ion()\n",
    "    grd, figure = drawGrid(grid)\n",
    "    figure.savefig(path + '/pics/fig0.png')\n",
    "    figure.suptitle('Generation number 1')\n",
    "    return figure, grd"
   ]
  },
  {
   "cell_type": "code",
   "execution_count": 38,
   "metadata": {
    "collapsed": false,
    "pycharm": {
     "name": "#%%\n"
    }
   },
   "outputs": [],
   "source": [
    "def drawNextGrid(figure, grd, f, grid, lastGrid, path):\n",
    "    grd.set_array(grid[::-1].ravel())\n",
    "    figure.canvas.flush_events()\n",
    "    if np.allclose(grid, lastGrid):\n",
    "        figure.suptitle('Generation stopped at frame ' + str(f) + \" because the grid is not changing anymore.\")\n",
    "        figure.savefig(path + '/pics/fig-last.png')\n",
    "        return True\n",
    "    else:\n",
    "        figure.suptitle('Generation number ' + str(f))\n",
    "    if f < 10:\n",
    "        figure.savefig(path + '/pics/fig0' + str(f) + '.png')\n",
    "    else:\n",
    "        figure.savefig(path + '/pics/fig' + str(f) + '.png')\n",
    "    \n",
    "    return False\n"
   ]
  },
  {
   "cell_type": "code",
   "execution_count": 72,
   "metadata": {
    "collapsed": false,
    "pycharm": {
     "name": "#%%\n"
    }
   },
   "outputs": [],
   "source": [
    "def createGridFromFile(path, gridHeight, gridWidth):\n",
    "    file = open(path, 'r')\n",
    "    lines = file.readlines()\n",
    "    grid = np.zeros((gridHeight, gridWidth))\n",
    "    i = 0\n",
    "    for line in lines:\n",
    "        j = 0\n",
    "        for x in line.strip():\n",
    "            grid[i][j] = x\n",
    "            j += 1\n",
    "        i += 1\n",
    "    return grid.astype(np.bool)"
   ]
  },
  {
   "cell_type": "code",
   "execution_count": 40,
   "metadata": {
    "collapsed": false,
    "pycharm": {
     "name": "#%%\n"
    }
   },
   "outputs": [],
   "source": [
    "def cleanFolder(path):\n",
    "    for file_name in os.listdir(path):\n",
    "        file = path + \"/\" + file_name\n",
    "        if os.path.isfile(file):\n",
    "            os.remove(file)"
   ]
  },
  {
   "cell_type": "code",
   "execution_count": 41,
   "outputs": [],
   "source": [
    "def make_gif(path, output, framesTime, framesToRun):\n",
    "    frames = [Image.open(image) for image in glob.glob(f\"{path}/pics/*.png\")]\n",
    "    frame_one = frames[0]\n",
    "    frame_one.save(output, format=\"GIF\", append_images=frames,\n",
    "               save_all=True, duration=framesTime*framesToRun, loop=0)"
   ],
   "metadata": {
    "collapsed": false,
    "pycharm": {
     "name": "#%%\n"
    }
   }
  },
  {
   "cell_type": "code",
   "execution_count": 60,
   "metadata": {
    "collapsed": false,
    "pycharm": {
     "name": "#%%\n"
    }
   },
   "outputs": [],
   "source": [
    "def runGameOfLife(grid, path, framesToRun, framesTime):\n",
    "    cleanFolder(path + '/pics')\n",
    "    nextGrid = grid.copy()\n",
    "    figure, grd = drawFirstGrid(nextGrid, path)\n",
    "    lastGrid = nextGrid\n",
    "    for f in range(1, framesToRun):\n",
    "        nextGrid = updateGrid(nextGrid)\n",
    "        isPlayStopped = drawNextGrid(figure, grd, f, nextGrid, lastGrid, path)\n",
    "        if isPlayStopped:\n",
    "            break\n",
    "        lastGrid = nextGrid\n",
    "    finalOutput = path + \"/finalAnimation.gif\"\n",
    "    make_gif(path, finalOutput, framesTime, framesToRun)"
   ]
  },
  {
   "cell_type": "code",
   "execution_count": 57,
   "outputs": [],
   "source": [
    "def validatePath(path):\n",
    "    picsPath = path + '/pics'\n",
    "    if not(os.path.exists(picsPath)):\n",
    "        os.makedirs(picsPath)"
   ],
   "metadata": {
    "collapsed": false,
    "pycharm": {
     "name": "#%%\n"
    }
   }
  },
  {
   "cell_type": "code",
   "execution_count": 73,
   "outputs": [
    {
     "data": {
      "text/plain": "<Figure size 1296x432 with 1 Axes>",
      "image/png": "[encoded data removed]"
     },
     "metadata": {
      "needs_background": "light"
     },
     "output_type": "display_data"
    },
    {
     "data": {
      "text/plain": "<Figure size 1296x432 with 1 Axes>",
      "image/png": "[encoded data removed]"
     },
     "metadata": {
      "needs_background": "light"
     },
     "output_type": "display_data"
    }
   ],
   "source": [
    "gridWidth = 30\n",
    "gridHeight = 10\n",
    "framesToRun = 100\n",
    "frameTime = 1\n",
    "path = 'samples/random-sample'\n",
    "validatePath(path)\n",
    "mainGrid = np.random.choice([False, True], (gridHeight, gridWidth), p=[0.8, 0.2])\n",
    "drawGrid(mainGrid)\n",
    "runGameOfLife(mainGrid, path, framesToRun, frameTime)"
   ],
   "metadata": {
    "collapsed": false,
    "pycharm": {
     "name": "#%%\n"
    }
   }
  },
  {
   "cell_type": "markdown",
   "source": [
    "# Results\n",
    "<img src='samples/random-sample/finalAnimation.gif' width=\"750\" align=\"center\" >"
   ],
   "metadata": {
    "collapsed": false,
    "pycharm": {
     "name": "#%% md\n"
    }
   }
  },
  {
   "cell_type": "code",
   "execution_count": 64,
   "outputs": [
    {
     "name": "stderr",
     "output_type": "stream",
     "text": [
      "C:\\Users\\rezae\\AppData\\Local\\Temp\\ipykernel_5372\\1506252941.py:14: DeprecationWarning: `np.bool` is a deprecated alias for the builtin `bool`. To silence this warning, use `bool` by itself. Doing this will not modify any behavior and is safe. If you specifically wanted the numpy scalar type, use `np.bool_` here.\n",
      "Deprecated in NumPy 1.20; for more details and guidance: https://numpy.org/devdocs/release/1.20.0-notes.html#deprecations\n",
      "  return grid.astype(np.bool)\n"
     ]
    },
    {
     "data": {
      "text/plain": "<Figure size 648x432 with 1 Axes>",
      "image/png": "[encoded data removed]"
     },
     "metadata": {
      "needs_background": "light"
     },
     "output_type": "display_data"
    },
    {
     "data": {
      "text/plain": "<Figure size 648x432 with 1 Axes>",
      "image/png": "[encoded data removed]"
     },
     "metadata": {
      "needs_background": "light"
     },
     "output_type": "display_data"
    }
   ],
   "source": [
    "gridWidth = 15\n",
    "gridHeight = 10\n",
    "framesToRun = 100\n",
    "frameTime = 1\n",
    "path = 'samples/still-lives'\n",
    "validatePath(path)\n",
    "mainGrid = createGridFromFile(path + '/still-lives.txt', gridHeight, gridWidth)\n",
    "drawGrid(mainGrid)\n",
    "runGameOfLife(mainGrid, path, framesToRun, frameTime)"
   ],
   "metadata": {
    "collapsed": false,
    "pycharm": {
     "name": "#%%\n"
    }
   }
  },
  {
   "cell_type": "markdown",
   "source": [
    "# Results\n",
    "<img src='samples/still-lives/finalAnimation.gif' width=\"750\" align=\"center\" >"
   ],
   "metadata": {
    "collapsed": false,
    "pycharm": {
     "name": "#%% md\n"
    }
   }
  },
  {
   "cell_type": "code",
   "execution_count": 67,
   "outputs": [
    {
     "name": "stderr",
     "output_type": "stream",
     "text": [
      "C:\\Users\\rezae\\AppData\\Local\\Temp\\ipykernel_5372\\1506252941.py:14: DeprecationWarning: `np.bool` is a deprecated alias for the builtin `bool`. To silence this warning, use `bool` by itself. Doing this will not modify any behavior and is safe. If you specifically wanted the numpy scalar type, use `np.bool_` here.\n",
      "Deprecated in NumPy 1.20; for more details and guidance: https://numpy.org/devdocs/release/1.20.0-notes.html#deprecations\n",
      "  return grid.astype(np.bool)\n"
     ]
    },
    {
     "data": {
      "text/plain": "<Figure size 432x432 with 1 Axes>",
      "image/png": "[encoded data removed]"
     },
     "metadata": {
      "needs_background": "light"
     },
     "output_type": "display_data"
    },
    {
     "data": {
      "text/plain": "<Figure size 432x432 with 1 Axes>",
      "image/png": "[encoded data removed]"
     },
     "metadata": {
      "needs_background": "light"
     },
     "output_type": "display_data"
    }
   ],
   "source": [
    "gridWidth = 15\n",
    "gridHeight = 15\n",
    "framesToRun = 100\n",
    "frameTime = 1\n",
    "path = 'samples/oscillators'\n",
    "validatePath(path)\n",
    "mainGrid = createGridFromFile(path + '/oscillators.txt', gridHeight, gridWidth)\n",
    "drawGrid(mainGrid)\n",
    "runGameOfLife(mainGrid, path, framesToRun, frameTime)"
   ],
   "metadata": {
    "collapsed": false,
    "pycharm": {
     "name": "#%%\n"
    }
   }
  },
  {
   "cell_type": "markdown",
   "source": [
    "# Results\n",
    "<img src='samples/oscillators/finalAnimation.gif' width=\"750\" align=\"center\" >"
   ],
   "metadata": {
    "collapsed": false,
    "pycharm": {
     "name": "#%% md\n"
    }
   }
  },
  {
   "cell_type": "markdown",
   "source": [],
   "metadata": {
    "collapsed": false,
    "pycharm": {
     "name": "#%% md\n"
    }
   }
  },
  {
   "cell_type": "code",
   "execution_count": 69,
   "outputs": [
    {
     "name": "stderr",
     "output_type": "stream",
     "text": [
      "C:\\Users\\rezae\\AppData\\Local\\Temp\\ipykernel_5372\\1506252941.py:14: DeprecationWarning: `np.bool` is a deprecated alias for the builtin `bool`. To silence this warning, use `bool` by itself. Doing this will not modify any behavior and is safe. If you specifically wanted the numpy scalar type, use `np.bool_` here.\n",
      "Deprecated in NumPy 1.20; for more details and guidance: https://numpy.org/devdocs/release/1.20.0-notes.html#deprecations\n",
      "  return grid.astype(np.bool)\n"
     ]
    },
    {
     "data": {
      "text/plain": "<Figure size 864x432 with 1 Axes>",
      "image/png": "[encoded data removed]"
     },
     "metadata": {
      "needs_background": "light"
     },
     "output_type": "display_data"
    },
    {
     "data": {
      "text/plain": "<Figure size 864x432 with 1 Axes>",
      "image/png": "[encoded data removed]"
     },
     "metadata": {
      "needs_background": "light"
     },
     "output_type": "display_data"
    }
   ],
   "source": [
    "gridWidth = 40\n",
    "gridHeight = 20\n",
    "framesToRun = 100\n",
    "frameTime = 1\n",
    "path = 'samples/spaceships'\n",
    "validatePath(path)\n",
    "mainGrid = createGridFromFile(path + '/glider.txt', gridHeight, gridWidth)\n",
    "drawGrid(mainGrid)\n",
    "runGameOfLife(mainGrid, path, framesToRun, frameTime)"
   ],
   "metadata": {
    "collapsed": false,
    "pycharm": {
     "name": "#%%\n"
    }
   }
  },
  {
   "cell_type": "markdown",
   "source": [
    "# Results\n",
    "<img src='samples/spaceships/finalAnimation.gif' width=\"750\" align=\"center\" >"
   ],
   "metadata": {
    "collapsed": false,
    "pycharm": {
     "name": "#%% md\n"
    }
   }
  },
  {
   "cell_type": "code",
   "execution_count": null,
   "metadata": {
    "collapsed": false,
    "pycharm": {
     "name": "#%%\n"
    }
   },
   "outputs": [],
   "source": []
  },
  {
   "cell_type": "markdown",
   "source": [
    "\n"
   ],
   "metadata": {
    "collapsed": false,
    "pycharm": {
     "name": "#%% md\n"
    }
   }
  }
 ],
 "metadata": {
  "kernelspec": {
   "display_name": "base",
   "language": "python",
   "name": "python3"
  },
  "language_info": {
   "codemirror_mode": {
    "name": "ipython",
    "version": 3
   },
   "file_extension": ".py",
   "mimetype": "text/x-python",
   "name": "python",
   "nbconvert_exporter": "python",
   "pygments_lexer": "ipython3",
   "version": "3.9.12"
  },
  "vscode": {
   "interpreter": {
    "hash": "ffccf19f5bea3c345c854d505af45eafe6890432f50bcc58a653a75b25e4385b"
   }
  }
 },
 "nbformat": 4,
 "nbformat_minor": 2
}